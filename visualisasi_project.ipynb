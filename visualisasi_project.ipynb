{
 "cells": [
  {
   "cell_type": "code",
   "execution_count": 29,
   "metadata": {},
   "outputs": [
    {
     "data": {
      "text/html": [
       "\n",
       "        <iframe\n",
       "            width=\"100%\"\n",
       "            height=\"650\"\n",
       "            src=\"http://127.0.0.1:8050/\"\n",
       "            frameborder=\"0\"\n",
       "            allowfullscreen\n",
       "            \n",
       "        ></iframe>\n",
       "        "
      ],
      "text/plain": [
       "<IPython.lib.display.IFrame at 0x1ce0d87cd90>"
      ]
     },
     "metadata": {},
     "output_type": "display_data"
    }
   ],
   "source": [
    "# visit http://127.0.0.1:8050/ in your web browser.\n",
    "\n",
    "# Import things\n",
    "import numpy as np \n",
    "import pandas as pd \n",
    "import seaborn as sns\n",
    "from dash import Dash, html, dash_table, dcc, callback, Output, Input\n",
    "import plotly.express as px\n",
    "\n",
    "# Incorporate data\n",
    "analisa_df = pd.read_csv('Penyebab Kematian di Indonesia yang Dilaporkan - Clean.csv')\n",
    "\n",
    "# Data Aggregate\n",
    "\n",
    "# First Analysis\n",
    "no1_df = analisa_df[['Total Deaths', 'Year', 'Type']]\n",
    "total_death = no1_df.groupby('Type')['Total Deaths'].sum().reset_index()\n",
    "total_death = total_death.sort_values(by='Total Deaths', ascending=False)\n",
    "total_death_peryear = no1_df.groupby(['Year', 'Type'])['Total Deaths'].max().reset_index()\n",
    "total_death_peryear = total_death_peryear.sort_values(by='Total Deaths', ascending=False)\n",
    "\n",
    "# Second Analysis\n",
    "no2_df = analisa_df[['Cause', 'Type', 'Total Deaths']]\n",
    "filter_nonalam = no2_df['Type'] == 'Bencana Non Alam dan Penyakit'\n",
    "df_nonalam = no2_df[filter_nonalam]\n",
    "total_nonalam = df_nonalam.groupby('Cause')['Total Deaths'].sum().reset_index()\n",
    "total_nonalam = total_nonalam.sort_values(by='Total Deaths', ascending=False).head(5)\n",
    "\n",
    "# Third Analysis\n",
    "filter_alam = no2_df['Type'] == 'Bencana Alam'\n",
    "df_alam = no2_df[filter_alam]\n",
    "total_alam = df_alam.groupby('Cause')['Total Deaths'].sum().reset_index()\n",
    "total_alam = total_alam.sort_values(by='Total Deaths', ascending=False).head(5)\n",
    "\n",
    "# Fourth Analysis\n",
    "filter_sosial = no2_df['Type'] == 'Bencana Sosial'\n",
    "df_sosial = no2_df[filter_sosial]\n",
    "total_sosial = df_sosial.groupby('Cause')['Total Deaths'].sum().reset_index()\n",
    "total_sosial = total_sosial.sort_values(by='Total Deaths', ascending=False).head(5)\n",
    "\n",
    "\n",
    "# Initialize the app\n",
    "app = Dash(__name__)\n",
    "\n",
    "# App Layout\n",
    "app.layout = html.Div(children=[\n",
    "    # Header Text\n",
    "    html.Div(children='Visualisasi Data \"Penyebab Kematian di Indonesia yang dilaporkan\"', style={'marginBottom' : '1em', 'fontWeight' : 'bold', 'fontSize' : '1.5em', 'textAlign' : 'center', 'marginTop' : '2em'}),\n",
    "    \n",
    "    # First Chart\n",
    "    dcc.Graph(figure=px.histogram(total_death, x='Type', y='Total Deaths', text_auto=True, title='Total kematian dari masing - masing tipe Bencana')),\n",
    "    \n",
    "    # Second Chart\n",
    "    html.Div(children=[\n",
    "    dcc.Graph(figure=px.bar(total_death_peryear, x='Year', y='Total Deaths', color='Type', text_auto=True, title='Total kematian per tahun'))      \n",
    "    ], style={'margin-top' : '2em'}),\n",
    "    \n",
    "    # Third Chart\n",
    "    html.Div(children=[\n",
    "    dcc.Graph(figure=px.bar(total_nonalam, x='Cause', y='Total Deaths', text_auto=True, title='Jumlah kematian tertinggi yang disebabkan Bencana Non Alam & Penyakit'))      \n",
    "    ], style={'margin-top' : '2em'}),\n",
    "    \n",
    "    # Fourth Chart\n",
    "    html.Div(children=[\n",
    "    dcc.Graph(figure=px.bar(total_alam, x='Cause', y='Total Deaths', text_auto=True, title='Jumlah kematian tertinggi yang disebabkan Bencana Alam'))      \n",
    "    ], style={'margin-top' : '2em'}),\n",
    "    \n",
    "    # Fifth Chart\n",
    "    html.Div(children=[\n",
    "    dcc.Graph(figure=px.bar(total_sosial, x='Cause', y='Total Deaths', text_auto=True, title='Jumlah kematian tertinggi yang disebabkan Bencana Sosial'))      \n",
    "    ], style={'margin-top' : '2em'}),\n",
    "])\n",
    "\n",
    "# Run the app\n",
    "if __name__ == '__main__':\n",
    "    app.run(debug=True)"
   ]
  }
 ],
 "metadata": {
  "kernelspec": {
   "display_name": "Python 3",
   "language": "python",
   "name": "python3"
  },
  "language_info": {
   "codemirror_mode": {
    "name": "ipython",
    "version": 3
   },
   "file_extension": ".py",
   "mimetype": "text/x-python",
   "name": "python",
   "nbconvert_exporter": "python",
   "pygments_lexer": "ipython3",
   "version": "3.11.5"
  }
 },
 "nbformat": 4,
 "nbformat_minor": 2
}
