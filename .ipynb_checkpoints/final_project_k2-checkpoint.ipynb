{
 "cells": [
  {
   "cell_type": "markdown",
   "id": "d7535065",
   "metadata": {},
   "source": [
    "# Kelompok II - Causes of Death in Indonesia"
   ]
  },
  {
   "cell_type": "markdown",
   "id": "7fb8b1d8",
   "metadata": {},
   "source": [
    "Dataset Penyebab Kematian di Indonesia dikompilasi dalam bentuk file CSV untuk memudahkan analisis."
   ]
  },
  {
   "cell_type": "markdown",
   "id": "cd713309",
   "metadata": {},
   "source": [
    "####\n",
    "> 1. Read Data"
   ]
  },
  {
   "cell_type": "code",
   "execution_count": 1,
   "id": "7f83a5e7",
   "metadata": {},
   "outputs": [],
   "source": [
    "import numpy as np \n",
    "import pandas as pd \n",
    "import seaborn as sns\n",
    "import matplotlib.pyplot as plt\n",
    "\n",
    "df = pd.read_csv('Penyebab Kematian di Indonesia yang Dilaporkan - Clean.csv')"
   ]
  },
  {
   "cell_type": "markdown",
   "id": "713b9923",
   "metadata": {},
   "source": [
    "####\n",
    "> 2. Show Data"
   ]
  },
  {
   "cell_type": "code",
   "execution_count": 2,
   "id": "c71f237f",
   "metadata": {},
   "outputs": [
    {
     "data": {
      "text/html": [
       "<div>\n",
       "<style scoped>\n",
       "    .dataframe tbody tr th:only-of-type {\n",
       "        vertical-align: middle;\n",
       "    }\n",
       "\n",
       "    .dataframe tbody tr th {\n",
       "        vertical-align: top;\n",
       "    }\n",
       "\n",
       "    .dataframe thead th {\n",
       "        text-align: right;\n",
       "    }\n",
       "</style>\n",
       "<table border=\"1\" class=\"dataframe\">\n",
       "  <thead>\n",
       "    <tr style=\"text-align: right;\">\n",
       "      <th></th>\n",
       "      <th>Cause</th>\n",
       "      <th>Type</th>\n",
       "      <th>Year</th>\n",
       "      <th>Data Redundancy</th>\n",
       "      <th>Total Deaths</th>\n",
       "      <th>Source</th>\n",
       "      <th>Page at Source</th>\n",
       "      <th>Source URL</th>\n",
       "    </tr>\n",
       "  </thead>\n",
       "  <tbody>\n",
       "    <tr>\n",
       "      <th>0</th>\n",
       "      <td>Abrasi Air Laut</td>\n",
       "      <td>Bencana Alam</td>\n",
       "      <td>2012</td>\n",
       "      <td>1</td>\n",
       "      <td>0</td>\n",
       "      <td>Profil Kesehatan Indonesia Tahun 2012</td>\n",
       "      <td>Lampiran 3.38</td>\n",
       "      <td>https://pusdatin.kemkes.go.id/download.php?fil...</td>\n",
       "    </tr>\n",
       "    <tr>\n",
       "      <th>1</th>\n",
       "      <td>AIDS</td>\n",
       "      <td>Bencana Non Alam dan Penyakit</td>\n",
       "      <td>2000</td>\n",
       "      <td>1</td>\n",
       "      <td>47</td>\n",
       "      <td>Profil Kesehatan Indonesia Tahun 2004</td>\n",
       "      <td>78</td>\n",
       "      <td>https://pusdatin.kemkes.go.id/download.php?fil...</td>\n",
       "    </tr>\n",
       "    <tr>\n",
       "      <th>2</th>\n",
       "      <td>AIDS</td>\n",
       "      <td>Bencana Non Alam dan Penyakit</td>\n",
       "      <td>2001</td>\n",
       "      <td>1</td>\n",
       "      <td>99</td>\n",
       "      <td>Profil Kesehatan Indonesia Tahun 2004</td>\n",
       "      <td>78</td>\n",
       "      <td>https://pusdatin.kemkes.go.id/download.php?fil...</td>\n",
       "    </tr>\n",
       "    <tr>\n",
       "      <th>3</th>\n",
       "      <td>AIDS</td>\n",
       "      <td>Bencana Non Alam dan Penyakit</td>\n",
       "      <td>2002</td>\n",
       "      <td>1</td>\n",
       "      <td>100</td>\n",
       "      <td>Profil Kesehatan Indonesia Tahun 2004</td>\n",
       "      <td>78</td>\n",
       "      <td>https://pusdatin.kemkes.go.id/download.php?fil...</td>\n",
       "    </tr>\n",
       "    <tr>\n",
       "      <th>4</th>\n",
       "      <td>AIDS</td>\n",
       "      <td>Bencana Non Alam dan Penyakit</td>\n",
       "      <td>2003</td>\n",
       "      <td>1</td>\n",
       "      <td>261</td>\n",
       "      <td>Profil Kesehatan Indonesia Tahun 2010</td>\n",
       "      <td>115</td>\n",
       "      <td>https://pusdatin.kemkes.go.id/download.php?fil...</td>\n",
       "    </tr>\n",
       "  </tbody>\n",
       "</table>\n",
       "</div>"
      ],
      "text/plain": [
       "             Cause                           Type  Year  Data Redundancy  \\\n",
       "0  Abrasi Air Laut                   Bencana Alam  2012                1   \n",
       "1             AIDS  Bencana Non Alam dan Penyakit  2000                1   \n",
       "2             AIDS  Bencana Non Alam dan Penyakit  2001                1   \n",
       "3             AIDS  Bencana Non Alam dan Penyakit  2002                1   \n",
       "4             AIDS  Bencana Non Alam dan Penyakit  2003                1   \n",
       "\n",
       "   Total Deaths                                 Source Page at Source  \\\n",
       "0             0  Profil Kesehatan Indonesia Tahun 2012  Lampiran 3.38   \n",
       "1            47  Profil Kesehatan Indonesia Tahun 2004             78   \n",
       "2            99  Profil Kesehatan Indonesia Tahun 2004             78   \n",
       "3           100  Profil Kesehatan Indonesia Tahun 2004             78   \n",
       "4           261  Profil Kesehatan Indonesia Tahun 2010            115   \n",
       "\n",
       "                                          Source URL  \n",
       "0  https://pusdatin.kemkes.go.id/download.php?fil...  \n",
       "1  https://pusdatin.kemkes.go.id/download.php?fil...  \n",
       "2  https://pusdatin.kemkes.go.id/download.php?fil...  \n",
       "3  https://pusdatin.kemkes.go.id/download.php?fil...  \n",
       "4  https://pusdatin.kemkes.go.id/download.php?fil...  "
      ]
     },
     "execution_count": 2,
     "metadata": {},
     "output_type": "execute_result"
    }
   ],
   "source": [
    "df.head() "
   ]
  },
  {
   "cell_type": "code",
   "execution_count": 4,
   "id": "42bbd009",
   "metadata": {},
   "outputs": [
    {
     "name": "stdout",
     "output_type": "stream",
     "text": [
      "<class 'pandas.core.frame.DataFrame'>\n",
      "RangeIndex: 680 entries, 0 to 679\n",
      "Data columns (total 8 columns):\n",
      " #   Column           Non-Null Count  Dtype \n",
      "---  ------           --------------  ----- \n",
      " 0   Cause            680 non-null    object\n",
      " 1   Type             680 non-null    object\n",
      " 2   Year             680 non-null    int64 \n",
      " 3   Data Redundancy  680 non-null    int64 \n",
      " 4   Total Deaths     680 non-null    int64 \n",
      " 5   Source           680 non-null    object\n",
      " 6   Page at Source   678 non-null    object\n",
      " 7   Source URL       677 non-null    object\n",
      "dtypes: int64(3), object(5)\n",
      "memory usage: 42.6+ KB\n"
     ]
    }
   ],
   "source": [
    "df.info()"
   ]
  },
  {
   "cell_type": "markdown",
   "id": "4dad8186",
   "metadata": {},
   "source": [
    "####\n",
    "> 3. Handle missing values"
   ]
  },
  {
   "cell_type": "code",
   "execution_count": 5,
   "id": "4d49656d",
   "metadata": {},
   "outputs": [
    {
     "data": {
      "text/plain": [
       "Cause              0\n",
       "Type               0\n",
       "Year               0\n",
       "Data Redundancy    0\n",
       "Total Deaths       0\n",
       "Source             0\n",
       "Page at Source     2\n",
       "Source URL         3\n",
       "dtype: int64"
      ]
     },
     "execution_count": 5,
     "metadata": {},
     "output_type": "execute_result"
    }
   ],
   "source": [
    "df.isnull().sum()"
   ]
  },
  {
   "cell_type": "code",
   "execution_count": 6,
   "id": "14930e9b",
   "metadata": {},
   "outputs": [
    {
     "data": {
      "text/html": [
       "<div>\n",
       "<style scoped>\n",
       "    .dataframe tbody tr th:only-of-type {\n",
       "        vertical-align: middle;\n",
       "    }\n",
       "\n",
       "    .dataframe tbody tr th {\n",
       "        vertical-align: top;\n",
       "    }\n",
       "\n",
       "    .dataframe thead th {\n",
       "        text-align: right;\n",
       "    }\n",
       "</style>\n",
       "<table border=\"1\" class=\"dataframe\">\n",
       "  <thead>\n",
       "    <tr style=\"text-align: right;\">\n",
       "      <th></th>\n",
       "      <th>Cause</th>\n",
       "      <th>Type</th>\n",
       "      <th>Year</th>\n",
       "      <th>Data Redundancy</th>\n",
       "      <th>Total Deaths</th>\n",
       "      <th>Source</th>\n",
       "      <th>Page at Source</th>\n",
       "      <th>Source URL</th>\n",
       "    </tr>\n",
       "  </thead>\n",
       "  <tbody>\n",
       "    <tr>\n",
       "      <th>149</th>\n",
       "      <td>COVID-19</td>\n",
       "      <td>Bencana Non Alam dan Penyakit</td>\n",
       "      <td>2021</td>\n",
       "      <td>1</td>\n",
       "      <td>121956</td>\n",
       "      <td>COVID19.go.id</td>\n",
       "      <td>NaN</td>\n",
       "      <td>NaN</td>\n",
       "    </tr>\n",
       "    <tr>\n",
       "      <th>150</th>\n",
       "      <td>COVID-19</td>\n",
       "      <td>Bencana Non Alam dan Penyakit</td>\n",
       "      <td>2022</td>\n",
       "      <td>1</td>\n",
       "      <td>12876</td>\n",
       "      <td>COVID19.go.id</td>\n",
       "      <td>NaN</td>\n",
       "      <td>NaN</td>\n",
       "    </tr>\n",
       "    <tr>\n",
       "      <th>608</th>\n",
       "      <td>Rabies - Lyssa</td>\n",
       "      <td>Bencana Non Alam dan Penyakit</td>\n",
       "      <td>2020</td>\n",
       "      <td>1</td>\n",
       "      <td>40</td>\n",
       "      <td>Profil Kesehatan Indonesia Tahun 2020</td>\n",
       "      <td>205</td>\n",
       "      <td>NaN</td>\n",
       "    </tr>\n",
       "  </tbody>\n",
       "</table>\n",
       "</div>"
      ],
      "text/plain": [
       "              Cause                           Type  Year  Data Redundancy  \\\n",
       "149        COVID-19  Bencana Non Alam dan Penyakit  2021                1   \n",
       "150        COVID-19  Bencana Non Alam dan Penyakit  2022                1   \n",
       "608  Rabies - Lyssa  Bencana Non Alam dan Penyakit  2020                1   \n",
       "\n",
       "     Total Deaths                                 Source Page at Source  \\\n",
       "149        121956                          COVID19.go.id            NaN   \n",
       "150         12876                          COVID19.go.id            NaN   \n",
       "608            40  Profil Kesehatan Indonesia Tahun 2020            205   \n",
       "\n",
       "    Source URL  \n",
       "149        NaN  \n",
       "150        NaN  \n",
       "608        NaN  "
      ]
     },
     "execution_count": 6,
     "metadata": {},
     "output_type": "execute_result"
    }
   ],
   "source": [
    "df[df[\"Source URL\"].isna() | df[\"Page at Source\"].isna()]"
   ]
  },
  {
   "cell_type": "markdown",
   "id": "a5564f56",
   "metadata": {},
   "source": [
    "menggabungkan kedua informasi catatan dan hapus salah satunya. Buat kategori baru \"unknown\" untuk \"source url\" dan \"page at source\""
   ]
  },
  {
   "cell_type": "code",
   "execution_count": 7,
   "id": "ceea310a",
   "metadata": {},
   "outputs": [
    {
     "data": {
      "text/html": [
       "<div>\n",
       "<style scoped>\n",
       "    .dataframe tbody tr th:only-of-type {\n",
       "        vertical-align: middle;\n",
       "    }\n",
       "\n",
       "    .dataframe tbody tr th {\n",
       "        vertical-align: top;\n",
       "    }\n",
       "\n",
       "    .dataframe thead th {\n",
       "        text-align: right;\n",
       "    }\n",
       "</style>\n",
       "<table border=\"1\" class=\"dataframe\">\n",
       "  <thead>\n",
       "    <tr style=\"text-align: right;\">\n",
       "      <th></th>\n",
       "      <th>Cause</th>\n",
       "      <th>Type</th>\n",
       "      <th>Year</th>\n",
       "      <th>Data Redundancy</th>\n",
       "      <th>Total Deaths</th>\n",
       "      <th>Source</th>\n",
       "      <th>Page at Source</th>\n",
       "      <th>Source URL</th>\n",
       "    </tr>\n",
       "  </thead>\n",
       "  <tbody>\n",
       "    <tr>\n",
       "      <th>148</th>\n",
       "      <td>COVID-19</td>\n",
       "      <td>Bencana Non Alam dan Penyakit</td>\n",
       "      <td>2021</td>\n",
       "      <td>1</td>\n",
       "      <td>60027</td>\n",
       "      <td>Profil Kesehatan Indonesia Tahun 2020 dan COVI...</td>\n",
       "      <td>unknown</td>\n",
       "      <td>unknown</td>\n",
       "    </tr>\n",
       "    <tr>\n",
       "      <th>149</th>\n",
       "      <td>COVID-19</td>\n",
       "      <td>Bencana Non Alam dan Penyakit</td>\n",
       "      <td>2021</td>\n",
       "      <td>1</td>\n",
       "      <td>60027</td>\n",
       "      <td>COVID19.go.id</td>\n",
       "      <td>unknown</td>\n",
       "      <td>unknown</td>\n",
       "    </tr>\n",
       "    <tr>\n",
       "      <th>150</th>\n",
       "      <td>COVID-19</td>\n",
       "      <td>Bencana Non Alam dan Penyakit</td>\n",
       "      <td>2021</td>\n",
       "      <td>1</td>\n",
       "      <td>60027</td>\n",
       "      <td>COVID19.go.id</td>\n",
       "      <td>unknown</td>\n",
       "      <td>unknown</td>\n",
       "    </tr>\n",
       "  </tbody>\n",
       "</table>\n",
       "</div>"
      ],
      "text/plain": [
       "        Cause                           Type  Year  Data Redundancy  \\\n",
       "148  COVID-19  Bencana Non Alam dan Penyakit  2021                1   \n",
       "149  COVID-19  Bencana Non Alam dan Penyakit  2021                1   \n",
       "150  COVID-19  Bencana Non Alam dan Penyakit  2021                1   \n",
       "\n",
       "     Total Deaths                                             Source  \\\n",
       "148         60027  Profil Kesehatan Indonesia Tahun 2020 dan COVI...   \n",
       "149         60027                                      COVID19.go.id   \n",
       "150         60027                                      COVID19.go.id   \n",
       "\n",
       "    Page at Source Source URL  \n",
       "148        unknown    unknown  \n",
       "149        unknown    unknown  \n",
       "150        unknown    unknown  "
      ]
     },
     "execution_count": 7,
     "metadata": {},
     "output_type": "execute_result"
    }
   ],
   "source": [
    "df.loc[df.Cause == \"COVID-19\", \"Total Deaths\"] = 22138 + 37889\n",
    "df.loc[df.Cause == \"COVID-19\", \"Year\"] = 2021\n",
    "df.loc[df.Cause == \"COVID-19\", \"Source URL\"] = \"unknown\"\n",
    "df.loc[df.Cause == \"COVID-19\", \"Page at Source\"] = \"unknown\"\n",
    "\n",
    "df_to_drop = df[ df['Cause'] == \"COVID-19 (per tanggal 3/7/2021)\" ] \n",
    "df = df.drop(df_to_drop.index, axis=0)\n",
    "df.reset_index(drop=True, inplace=True)\n",
    "\n",
    "df[(df[\"Cause\"]==\"COVID-19\") | (df[\"Cause\"]==\"COVID-19 (per tanggal 3/7/2021)\")]"
   ]
  },
  {
   "cell_type": "code",
   "execution_count": 9,
   "id": "895c561b",
   "metadata": {},
   "outputs": [
    {
     "data": {
      "text/plain": [
       "Cause              0\n",
       "Type               0\n",
       "Year               0\n",
       "Data Redundancy    0\n",
       "Total Deaths       0\n",
       "Source             0\n",
       "Page at Source     0\n",
       "Source URL         1\n",
       "dtype: int64"
      ]
     },
     "execution_count": 9,
     "metadata": {},
     "output_type": "execute_result"
    }
   ],
   "source": [
    "df.isnull().sum()"
   ]
  },
  {
   "cell_type": "code",
   "execution_count": 10,
   "id": "32e2da4f",
   "metadata": {},
   "outputs": [
    {
     "data": {
      "text/html": [
       "<div>\n",
       "<style scoped>\n",
       "    .dataframe tbody tr th:only-of-type {\n",
       "        vertical-align: middle;\n",
       "    }\n",
       "\n",
       "    .dataframe tbody tr th {\n",
       "        vertical-align: top;\n",
       "    }\n",
       "\n",
       "    .dataframe thead th {\n",
       "        text-align: right;\n",
       "    }\n",
       "</style>\n",
       "<table border=\"1\" class=\"dataframe\">\n",
       "  <thead>\n",
       "    <tr style=\"text-align: right;\">\n",
       "      <th></th>\n",
       "      <th>Cause</th>\n",
       "      <th>Type</th>\n",
       "      <th>Year</th>\n",
       "      <th>Data Redundancy</th>\n",
       "      <th>Total Deaths</th>\n",
       "      <th>Source</th>\n",
       "      <th>Page at Source</th>\n",
       "      <th>Source URL</th>\n",
       "    </tr>\n",
       "  </thead>\n",
       "  <tbody>\n",
       "    <tr>\n",
       "      <th>608</th>\n",
       "      <td>Rabies - Lyssa</td>\n",
       "      <td>Bencana Non Alam dan Penyakit</td>\n",
       "      <td>2020</td>\n",
       "      <td>1</td>\n",
       "      <td>40</td>\n",
       "      <td>Profil Kesehatan Indonesia Tahun 2020</td>\n",
       "      <td>205</td>\n",
       "      <td>NaN</td>\n",
       "    </tr>\n",
       "  </tbody>\n",
       "</table>\n",
       "</div>"
      ],
      "text/plain": [
       "              Cause                           Type  Year  Data Redundancy  \\\n",
       "608  Rabies - Lyssa  Bencana Non Alam dan Penyakit  2020                1   \n",
       "\n",
       "     Total Deaths                                 Source Page at Source  \\\n",
       "608            40  Profil Kesehatan Indonesia Tahun 2020            205   \n",
       "\n",
       "    Source URL  \n",
       "608        NaN  "
      ]
     },
     "execution_count": 10,
     "metadata": {},
     "output_type": "execute_result"
    }
   ],
   "source": [
    "df[df[\"Source URL\"].isna()]"
   ]
  },
  {
   "cell_type": "code",
   "execution_count": 13,
   "id": "e7be5e6e",
   "metadata": {},
   "outputs": [],
   "source": [
    "df.loc[df.Cause == \"Rabies - Lyssa\", \"Source URL\"] = \"unknown\""
   ]
  },
  {
   "cell_type": "code",
   "execution_count": 14,
   "id": "e772be02",
   "metadata": {},
   "outputs": [
    {
     "data": {
      "text/plain": [
       "Cause              0\n",
       "Type               0\n",
       "Year               0\n",
       "Data Redundancy    0\n",
       "Total Deaths       0\n",
       "Source             0\n",
       "Page at Source     0\n",
       "Source URL         0\n",
       "dtype: int64"
      ]
     },
     "execution_count": 14,
     "metadata": {},
     "output_type": "execute_result"
    }
   ],
   "source": [
    "df.isnull().sum()"
   ]
  },
  {
   "cell_type": "code",
   "execution_count": 15,
   "id": "78365074",
   "metadata": {},
   "outputs": [
    {
     "name": "stdout",
     "output_type": "stream",
     "text": [
      "<class 'pandas.core.frame.DataFrame'>\n",
      "RangeIndex: 680 entries, 0 to 679\n",
      "Data columns (total 8 columns):\n",
      " #   Column           Non-Null Count  Dtype \n",
      "---  ------           --------------  ----- \n",
      " 0   Cause            680 non-null    object\n",
      " 1   Type             680 non-null    object\n",
      " 2   Year             680 non-null    int64 \n",
      " 3   Data Redundancy  680 non-null    int64 \n",
      " 4   Total Deaths     680 non-null    int64 \n",
      " 5   Source           680 non-null    object\n",
      " 6   Page at Source   680 non-null    object\n",
      " 7   Source URL       680 non-null    object\n",
      "dtypes: int64(3), object(5)\n",
      "memory usage: 42.6+ KB\n"
     ]
    }
   ],
   "source": [
    "df.info()"
   ]
  },
  {
   "cell_type": "markdown",
   "id": "641f6970",
   "metadata": {},
   "source": [
    "Membuang ekstra sepasi dalam teks"
   ]
  },
  {
   "cell_type": "code",
   "execution_count": 16,
   "id": "11f41217",
   "metadata": {},
   "outputs": [],
   "source": [
    "df['Cause'] = df['Cause'].replace('\\s+', ' ', regex=True)\n",
    "df['Type'] = df['Type'].replace('\\s+', ' ', regex=True)\n",
    "df['Source'] = df['Source'].replace('\\s+', ' ', regex=True)\n",
    "df['Page at Source'] = df['Page at Source'].replace('\\s+', ' ', regex=True)\n",
    "df['Source URL'] = df['Source URL'].replace('\\s+', ' ', regex=True)"
   ]
  },
  {
   "cell_type": "markdown",
   "id": "f2070da0",
   "metadata": {},
   "source": [
    "Check duplicates"
   ]
  },
  {
   "cell_type": "code",
   "execution_count": 17,
   "id": "d7ac6218",
   "metadata": {},
   "outputs": [
    {
     "data": {
      "text/html": [
       "<div>\n",
       "<style scoped>\n",
       "    .dataframe tbody tr th:only-of-type {\n",
       "        vertical-align: middle;\n",
       "    }\n",
       "\n",
       "    .dataframe tbody tr th {\n",
       "        vertical-align: top;\n",
       "    }\n",
       "\n",
       "    .dataframe thead th {\n",
       "        text-align: right;\n",
       "    }\n",
       "</style>\n",
       "<table border=\"1\" class=\"dataframe\">\n",
       "  <thead>\n",
       "    <tr style=\"text-align: right;\">\n",
       "      <th></th>\n",
       "      <th>Cause</th>\n",
       "      <th>Type</th>\n",
       "      <th>Year</th>\n",
       "      <th>Data Redundancy</th>\n",
       "      <th>Total Deaths</th>\n",
       "      <th>Source</th>\n",
       "      <th>Page at Source</th>\n",
       "      <th>Source URL</th>\n",
       "    </tr>\n",
       "  </thead>\n",
       "  <tbody>\n",
       "    <tr>\n",
       "      <th>149</th>\n",
       "      <td>COVID-19</td>\n",
       "      <td>Bencana Non Alam dan Penyakit</td>\n",
       "      <td>2021</td>\n",
       "      <td>1</td>\n",
       "      <td>60027</td>\n",
       "      <td>COVID19.go.id</td>\n",
       "      <td>unknown</td>\n",
       "      <td>unknown</td>\n",
       "    </tr>\n",
       "    <tr>\n",
       "      <th>150</th>\n",
       "      <td>COVID-19</td>\n",
       "      <td>Bencana Non Alam dan Penyakit</td>\n",
       "      <td>2021</td>\n",
       "      <td>1</td>\n",
       "      <td>60027</td>\n",
       "      <td>COVID19.go.id</td>\n",
       "      <td>unknown</td>\n",
       "      <td>unknown</td>\n",
       "    </tr>\n",
       "  </tbody>\n",
       "</table>\n",
       "</div>"
      ],
      "text/plain": [
       "        Cause                           Type  Year  Data Redundancy  \\\n",
       "149  COVID-19  Bencana Non Alam dan Penyakit  2021                1   \n",
       "150  COVID-19  Bencana Non Alam dan Penyakit  2021                1   \n",
       "\n",
       "     Total Deaths         Source Page at Source Source URL  \n",
       "149         60027  COVID19.go.id        unknown    unknown  \n",
       "150         60027  COVID19.go.id        unknown    unknown  "
      ]
     },
     "execution_count": 17,
     "metadata": {},
     "output_type": "execute_result"
    }
   ],
   "source": [
    "df[df.duplicated(keep=False)]"
   ]
  },
  {
   "cell_type": "code",
   "execution_count": 18,
   "id": "33dd1e9e",
   "metadata": {},
   "outputs": [],
   "source": [
    "df.drop_duplicates(inplace=True)"
   ]
  },
  {
   "cell_type": "code",
   "execution_count": 19,
   "id": "4878826f",
   "metadata": {},
   "outputs": [
    {
     "data": {
      "text/html": [
       "<div>\n",
       "<style scoped>\n",
       "    .dataframe tbody tr th:only-of-type {\n",
       "        vertical-align: middle;\n",
       "    }\n",
       "\n",
       "    .dataframe tbody tr th {\n",
       "        vertical-align: top;\n",
       "    }\n",
       "\n",
       "    .dataframe thead th {\n",
       "        text-align: right;\n",
       "    }\n",
       "</style>\n",
       "<table border=\"1\" class=\"dataframe\">\n",
       "  <thead>\n",
       "    <tr style=\"text-align: right;\">\n",
       "      <th></th>\n",
       "      <th>Cause</th>\n",
       "      <th>Type</th>\n",
       "      <th>Year</th>\n",
       "      <th>Data Redundancy</th>\n",
       "      <th>Total Deaths</th>\n",
       "      <th>Source</th>\n",
       "      <th>Page at Source</th>\n",
       "      <th>Source URL</th>\n",
       "    </tr>\n",
       "  </thead>\n",
       "  <tbody>\n",
       "  </tbody>\n",
       "</table>\n",
       "</div>"
      ],
      "text/plain": [
       "Empty DataFrame\n",
       "Columns: [Cause, Type, Year, Data Redundancy, Total Deaths, Source, Page at Source, Source URL]\n",
       "Index: []"
      ]
     },
     "execution_count": 19,
     "metadata": {},
     "output_type": "execute_result"
    }
   ],
   "source": [
    "df[df.duplicated(keep=False)]"
   ]
  },
  {
   "cell_type": "code",
   "execution_count": 20,
   "id": "2bb3ce8f",
   "metadata": {},
   "outputs": [
    {
     "name": "stdout",
     "output_type": "stream",
     "text": [
      "<class 'pandas.core.frame.DataFrame'>\n",
      "RangeIndex: 679 entries, 0 to 678\n",
      "Data columns (total 8 columns):\n",
      " #   Column           Non-Null Count  Dtype \n",
      "---  ------           --------------  ----- \n",
      " 0   Cause            679 non-null    object\n",
      " 1   Type             679 non-null    object\n",
      " 2   Year             679 non-null    int64 \n",
      " 3   Data Redundancy  679 non-null    int64 \n",
      " 4   Total Deaths     679 non-null    int64 \n",
      " 5   Source           679 non-null    object\n",
      " 6   Page at Source   679 non-null    object\n",
      " 7   Source URL       679 non-null    object\n",
      "dtypes: int64(3), object(5)\n",
      "memory usage: 42.6+ KB\n"
     ]
    }
   ],
   "source": [
    "df.reset_index(drop=True, inplace=True)\n",
    "df.info()"
   ]
  }
 ],
 "metadata": {
  "kernelspec": {
   "display_name": "Python 3 (ipykernel)",
   "language": "python",
   "name": "python3"
  },
  "language_info": {
   "codemirror_mode": {
    "name": "ipython",
    "version": 3
   },
   "file_extension": ".py",
   "mimetype": "text/x-python",
   "name": "python",
   "nbconvert_exporter": "python",
   "pygments_lexer": "ipython3",
   "version": "3.10.12"
  }
 },
 "nbformat": 4,
 "nbformat_minor": 5
}
